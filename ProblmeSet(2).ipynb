{
 "cells": [
  {
   "cell_type": "markdown",
   "id": "72a8e869-ec8d-4ba3-a603-3fdfac29f683",
   "metadata": {},
   "source": [
    "## Question 1"
   ]
  },
  {
   "cell_type": "code",
   "execution_count": 9,
   "id": "39a7c265-b12a-495b-b285-0092b61ccb76",
   "metadata": {},
   "outputs": [],
   "source": [
    "a = 0\n",
    "\n",
    "def b():\n",
    "    global a\n",
    "    a = c(a)\n",
    "\n",
    "def c(a):\n",
    "    return a + 2\n",
    "\n"
   ]
  },
  {
   "cell_type": "code",
   "execution_count": null,
   "id": "0214e776-4b21-4251-9e32-21a170c6fbe1",
   "metadata": {},
   "outputs": [],
   "source": [
    "b()"
   ]
  },
  {
   "cell_type": "code",
   "execution_count": null,
   "id": "723e2a56-a3f0-4848-9501-2f09688815f5",
   "metadata": {},
   "outputs": [],
   "source": [
    "b()"
   ]
  },
  {
   "cell_type": "code",
   "execution_count": null,
   "id": "33d8a523-6f51-400a-8a01-c7aa2ea27694",
   "metadata": {},
   "outputs": [],
   "source": [
    "b()"
   ]
  },
  {
   "cell_type": "code",
   "execution_count": null,
   "id": "5f3a256f-70e7-4c8d-b32e-d57e85bac0ec",
   "metadata": {},
   "outputs": [],
   "source": [
    "print(a)"
   ]
  },
  {
   "cell_type": "markdown",
   "id": "98466d6d-8367-40e5-9d31-f9dfd2e2a0ea",
   "metadata": {},
   "source": [
    "## Output\n"
   ]
  },
  {
   "cell_type": "markdown",
   "id": "32140424-10be-4257-9b00-0c11da767e33",
   "metadata": {},
   "source": [
    "6"
   ]
  },
  {
   "cell_type": "markdown",
   "id": "1735c0f3-eac4-487e-b951-e8b150f3b83b",
   "metadata": {},
   "source": [
    "## Question 2\n"
   ]
  },
  {
   "cell_type": "code",
   "execution_count": 7,
   "id": "bfd1041a-d83a-4cb7-95c7-ed1401dee7ea",
   "metadata": {},
   "outputs": [],
   "source": [
    "def fileLength(filename):\n",
    "    try:\n",
    "        infile = open(filename)\n",
    "        content = infile.read()\n",
    "        infile.close()\n",
    "        return len(content)\n",
    "    except FileNotFoundError:\n",
    "        print(f\"File {filename} not found.\")\n"
   ]
  },
  {
   "cell_type": "code",
   "execution_count": null,
   "id": "f0ab10f5-f34b-4e29-a1a6-0dd63e569a7e",
   "metadata": {},
   "outputs": [],
   "source": [
    "fileLength('midterm.py')\n"
   ]
  },
  {
   "cell_type": "code",
   "execution_count": null,
   "id": "e5172d58-22cb-461c-98b1-d88da28d331f",
   "metadata": {},
   "outputs": [],
   "source": [
    "fileLength('idterm.py')\n"
   ]
  },
  {
   "cell_type": "markdown",
   "id": "ed513141-fd52-4128-a7a5-ff7ac5ffd961",
   "metadata": {},
   "source": [
    "## Output"
   ]
  },
  {
   "cell_type": "markdown",
   "id": "b39ffe00-d736-47ac-9027-e13e69aa3142",
   "metadata": {},
   "source": [
    "358"
   ]
  },
  {
   "cell_type": "markdown",
   "id": "82e75660-a123-4ca4-8f63-c34ca2d13bab",
   "metadata": {},
   "source": [
    "File idterm.py not found."
   ]
  },
  {
   "cell_type": "markdown",
   "id": "98272fa3-4a17-4d30-83d0-2cf602af774d",
   "metadata": {},
   "source": [
    "## Question 3"
   ]
  },
  {
   "cell_type": "code",
   "execution_count": 11,
   "id": "3aa21030-c86c-464d-b489-dc237a049d64",
   "metadata": {},
   "outputs": [],
   "source": [
    "class Marsupial:\n",
    "    def __init__(self):\n",
    "        self.pouch = []\n",
    "\n",
    "    def put_in_pouch(self, item):\n",
    "        self.pouch.append(item)\n",
    "\n",
    "    def pouch_contents(self):\n",
    "        return self.pouch\n",
    "\n",
    "class Kangaroo(Marsupial):\n",
    "    def __init__(self, x, y):\n",
    "        super().__init__()\n",
    "        self.x = x\n",
    "        self.y = y\n",
    "\n",
    "    def jump(self, dx, dy):\n",
    "        self.x += dx\n",
    "        self.y += dy\n",
    "\n",
    "    def __str__(self):\n",
    "        return f\"I am a Kangaroo located at coordinates ({self.x},{self.y})\"\n"
   ]
  },
  {
   "cell_type": "code",
   "execution_count": null,
   "id": "90193972-1352-45a9-b74b-5c40dd148506",
   "metadata": {},
   "outputs": [],
   "source": [
    "k = Kangaroo(0, 0)\n",
    "print(k)\n",
    "k.put_in_pouch('doll')\n",
    "k.put_in_pouch('firetruck')\n",
    "k.put_in_pouch('kitten')\n",
    "print(k.pouch_contents())\n",
    "k.jump(1, 0)\n",
    "k.jump(1, 0)\n",
    "k.jump(1, 0)\n",
    "print(k)\n"
   ]
  },
  {
   "cell_type": "markdown",
   "id": "6f26cdce-9292-45b6-82ea-7632b9fc558b",
   "metadata": {},
   "source": [
    "## Output"
   ]
  },
  {
   "cell_type": "markdown",
   "id": "b545c07a-16a2-4a45-8825-41cd865d1248",
   "metadata": {},
   "source": [
    "I am a Kangaroo located at coordinates (0,0)\n",
    "['doll', 'firetruck', 'kitten']\n",
    "I am a Kangaroo located at coordinates (3,0)\n"
   ]
  },
  {
   "cell_type": "markdown",
   "id": "a250eaea-9750-4872-bc80-b8821f954e64",
   "metadata": {},
   "source": [
    "## Question 4"
   ]
  },
  {
   "cell_type": "code",
   "execution_count": 4,
   "id": "85659a9e-fc6f-4ce7-a2af-7e16388a87a9",
   "metadata": {},
   "outputs": [],
   "source": [
    "def collatz(x):\n",
    "    print(x)\n",
    "    if x == 1:\n",
    "        return\n",
    "    elif x % 2 == 0:\n",
    "        collatz(x // 2)\n",
    "    else:\n",
    "        collatz(3 * x + 1)\n"
   ]
  },
  {
   "cell_type": "code",
   "execution_count": null,
   "id": "7cf3c984-217b-4778-a688-1e19481c5b7e",
   "metadata": {},
   "outputs": [],
   "source": [
    "collatz(10)\n"
   ]
  },
  {
   "cell_type": "markdown",
   "id": "d3e34894-ca41-4348-b35c-ffb82ddd5665",
   "metadata": {},
   "source": [
    "## Output"
   ]
  },
  {
   "cell_type": "markdown",
   "id": "cdcb1b3b-8c67-405d-8e6c-428d066b2543",
   "metadata": {},
   "source": [
    "10\n",
    "5\n",
    "16\n",
    "8\n",
    "4\n",
    "2\n",
    "1\n"
   ]
  },
  {
   "cell_type": "markdown",
   "id": "64f97d61-5a97-4118-b597-ddb049b74956",
   "metadata": {},
   "source": [
    "## Question 5"
   ]
  },
  {
   "cell_type": "code",
   "execution_count": 8,
   "id": "f072e814-9845-4448-a85f-aa2326cc2bf3",
   "metadata": {},
   "outputs": [],
   "source": [
    "def binary(n):\n",
    "    if n < 2:\n",
    "        print(n, end=\"\")\n",
    "    else:\n",
    "        binary(n // 2)\n",
    "        print(n % 2, end=\"\")\n"
   ]
  },
  {
   "cell_type": "code",
   "execution_count": null,
   "id": "72f6c4ee-8e7d-4d1a-9c01-92e48da4d532",
   "metadata": {},
   "outputs": [],
   "source": [
    "binary(9)\n",
    "print() \n"
   ]
  },
  {
   "cell_type": "markdown",
   "id": "8e93caa3-330a-438a-ab56-be9c4538d7ec",
   "metadata": {},
   "source": [
    "Output"
   ]
  },
  {
   "cell_type": "markdown",
   "id": "5c0ff38f-d506-41a5-84bc-9584d8e99713",
   "metadata": {},
   "source": [
    "1001\n"
   ]
  },
  {
   "cell_type": "markdown",
   "id": "21bcc79c-0812-4ddc-a1ae-5e58c53f0923",
   "metadata": {},
   "source": [
    "## Question 6"
   ]
  },
  {
   "cell_type": "code",
   "execution_count": 19,
   "id": "d3c3ea83-7b14-4113-a311-e7154d52a3a2",
   "metadata": {},
   "outputs": [],
   "source": [
    "from html.parser import HTMLParser\n",
    "\n",
    "class HeadingParser(HTMLParser):\n",
    "    def __init__(self):\n",
    "        super().__init__()\n",
    "        self.indent_level = 0\n",
    "        self.in_heading = False\n",
    "\n",
    "    def handle_starttag(self, tag, attrs):\n",
    "        if tag.startswith('h') and tag[1].isdigit():\n",
    "            self.in_heading = True\n",
    "            self.indent_level = int(tag[1]) - 1\n",
    "\n",
    "    def handle_endtag(self, tag):\n",
    "        if tag.startswith('h') and tag[1].isdigit():\n",
    "            self.in_heading = False\n",
    "\n",
    "    def handle_data(self, data):\n",
    "        if self.in_heading:\n",
    "            print(\" \" * self.indent_level + data)\n"
   ]
  },
  {
   "cell_type": "code",
   "execution_count": null,
   "id": "c6322631-2e2d-4b84-91d8-7b410f5e4dee",
   "metadata": {},
   "outputs": [],
   "source": [
    "hp = HeadingParser()\n",
    "hp.feed(\"<h1>W3C Mission</h1><h2>Principles</h2>\")\n"
   ]
  },
  {
   "cell_type": "markdown",
   "id": "f6046a5d-7430-42f8-b308-c2dc5e56d856",
   "metadata": {},
   "source": [
    "## Output"
   ]
  },
  {
   "cell_type": "markdown",
   "id": "9e426914-df24-4830-90c3-31668ebbddd0",
   "metadata": {},
   "source": [
    "W3C Mission\n",
    " Principles\n"
   ]
  },
  {
   "cell_type": "markdown",
   "id": "388d33c4-1348-45ed-a570-9aaf31ff5b9b",
   "metadata": {},
   "source": [
    "Question 7"
   ]
  },
  {
   "cell_type": "code",
   "execution_count": 21,
   "id": "ed4e0af4-c2af-459c-ad9e-af1a0ed54058",
   "metadata": {},
   "outputs": [],
   "source": [
    "import urllib.request\n",
    "from html.parser import HTMLParser\n",
    "\n",
    "def webdir(url, depth, indent):\n",
    "    print(' ' * indent + url)\n",
    "    if depth == 0:\n",
    "        return\n",
    "    try:\n",
    "        response = urllib.request.urlopen(url)\n",
    "        content = response.read().decode()\n",
    "    except:\n",
    "        return\n",
    "    parser = HTMLParser()\n",
    "    parser.feed(content)\n"
   ]
  },
  {
   "cell_type": "markdown",
   "id": "7a94b1d4-1fb7-46df-8fda-79d5972fe4b4",
   "metadata": {},
   "source": [
    "## Question 8"
   ]
  },
  {
   "cell_type": "markdown",
   "id": "1e8c68a2-aced-4a87-a240-2a24fbbc1eae",
   "metadata": {},
   "source": [
    "## a) All the temperature data:"
   ]
  },
  {
   "cell_type": "code",
   "execution_count": null,
   "id": "9407c7bb-c9af-434d-ab12-131c61ed445d",
   "metadata": {},
   "outputs": [],
   "source": [
    "SELECT Temperature FROM table_name;"
   ]
  },
  {
   "cell_type": "markdown",
   "id": "eb056fbb-e2f5-4499-beba-99d9569b9a98",
   "metadata": {},
   "source": [
    "## b) All cities without repetition:"
   ]
  },
  {
   "cell_type": "code",
   "execution_count": null,
   "id": "a26a4e1f-34f1-434e-906d-a7ca61b86190",
   "metadata": {},
   "outputs": [],
   "source": [
    "SELECT DISTINCT City FROM table_name;"
   ]
  },
  {
   "cell_type": "markdown",
   "id": "708e12cd-66d9-42a8-ae9c-12d34dcef7d3",
   "metadata": {},
   "source": [
    "## c) All records for India:"
   ]
  },
  {
   "cell_type": "code",
   "execution_count": null,
   "id": "63f43042-7790-4d74-942c-c08d587d460d",
   "metadata": {},
   "outputs": [],
   "source": [
    "SELECT * FROM table_name WHERE Country = 'India';"
   ]
  },
  {
   "cell_type": "markdown",
   "id": "15c55629-bf7b-4542-a5ad-dd3d2a95a2ad",
   "metadata": {},
   "source": [
    "## d) All Fall records:"
   ]
  },
  {
   "cell_type": "code",
   "execution_count": null,
   "id": "c697ff03-a566-41b0-a026-08c4363cacfc",
   "metadata": {},
   "outputs": [],
   "source": [
    "SELECT * FROM table_name WHERE Season = 'Fall';\n"
   ]
  },
  {
   "cell_type": "markdown",
   "id": "e491cde1-f811-4ab1-891b-1ee8d7d457f8",
   "metadata": {},
   "source": [
    "## e) Average rainfall between 200 and 400 mm"
   ]
  },
  {
   "cell_type": "code",
   "execution_count": null,
   "id": "230c5663-7c74-4c27-8275-de791de264e3",
   "metadata": {},
   "outputs": [],
   "source": [
    "SELECT City, Country, Season FROM table_name WHERE Rainfall BETWEEN 200 AND 400;\n"
   ]
  },
  {
   "cell_type": "markdown",
   "id": "3eb0dddc-e7a7-4f09-9506-7c3f43a06081",
   "metadata": {},
   "source": [
    "f) City and country for which the average Fall temperature is above 20 degrees, in increasing temperature order:"
   ]
  },
  {
   "cell_type": "code",
   "execution_count": null,
   "id": "aed5ae50-ae70-4d24-a6b5-71b542afd8dd",
   "metadata": {},
   "outputs": [],
   "source": [
    "SELECT City, Country FROM table_name WHERE Season = 'Fall' AND Temperature > 20 ORDER BY Temperature;\n"
   ]
  },
  {
   "cell_type": "markdown",
   "id": "dd5a8f55-1666-40b7-9a3d-bcf7eaa9fa68",
   "metadata": {},
   "source": [
    "g) Total annual rainfall for Cairo:"
   ]
  },
  {
   "cell_type": "code",
   "execution_count": null,
   "id": "95b67a8f-86f1-43bd-a8fd-797b4c88f25a",
   "metadata": {},
   "outputs": [],
   "source": [
    "SELECT SUM(Rainfall) FROM table_name WHERE City = 'Cairo';"
   ]
  },
  {
   "cell_type": "markdown",
   "id": "4a24b842-24f9-4faf-b173-545886bbbda6",
   "metadata": {},
   "source": [
    "h) Total rainfall for each season:"
   ]
  },
  {
   "cell_type": "code",
   "execution_count": null,
   "id": "2d4d50ba-2628-4a44-a911-528361329b82",
   "metadata": {},
   "outputs": [],
   "source": [
    "SELECT Season, SUM(Rainfall) FROM table_name GROUP BY Season;"
   ]
  },
  {
   "cell_type": "markdown",
   "id": "fb5afa47-3d85-475b-bd50-641e48476813",
   "metadata": {},
   "source": [
    "## Question 9"
   ]
  },
  {
   "cell_type": "code",
   "execution_count": null,
   "id": "2d4b0f20-765d-4aea-a0ce-d967dc21efa2",
   "metadata": {},
   "outputs": [],
   "source": [
    "words = ['The', 'quick', 'brown', 'fox', 'jumps', 'over', 'the', 'lazy', 'dog']\n",
    "\n",
    "# a)\n",
    "uppercase_words = [word.upper() for word in words]\n",
    "print(uppercase_words)\n",
    "\n",
    "# b)\n",
    "lowercase_words = [word.lower() for word in words]\n",
    "print(lowercase_words)\n",
    "\n",
    "# c)\n",
    "word_lengths = [len(word) for word in words]\n",
    "print(word_lengths)\n",
    "\n",
    "# d)\n",
    "detailed_words = [[word.upper(), word.lower(), len(word)] for word in words]\n",
    "print(detailed_words)\n",
    "\n",
    "# e)\n",
    "four_or_more_chars = [word for word in words if len(word) >= 4]\n",
    "print(four_or_more_chars)\n"
   ]
  },
  {
   "cell_type": "markdown",
   "id": "6bd7d037-8f95-4aa1-91a3-da7a8bacb498",
   "metadata": {},
   "source": [
    "## Output"
   ]
  },
  {
   "cell_type": "markdown",
   "id": "6308ec56-c118-43ce-8c01-6f59d584ffe2",
   "metadata": {},
   "source": [
    "['THE', 'QUICK', 'BROWN', 'FOX', 'JUMPS', 'OVER', 'THE', 'LAZY', 'DOG']\n",
    "['the', 'quick', 'brown', 'fox', 'jumps', 'over', 'the', 'lazy', 'dog']\n",
    "[3, 5, 5, 3, 5, 4, 3, 4, 3]\n",
    "[['THE', 'the', 3], ['QUICK', 'quick', 5], ['BROWN', 'brown', 5], ['FOX', 'fox', 3], ['JUMPS', 'jumps', 5], ['OVER', 'over', 4], ['THE', 'the', 3], ['LAZY', 'lazy', 4], ['DOG', 'dog', 3]]\n",
    "['quick', 'brown', 'jumps', 'over', 'lazy']\n"
   ]
  }
 ],
 "metadata": {
  "kernelspec": {
   "display_name": "Python 3 (ipykernel)",
   "language": "python",
   "name": "python3"
  },
  "language_info": {
   "codemirror_mode": {
    "name": "ipython",
    "version": 3
   },
   "file_extension": ".py",
   "mimetype": "text/x-python",
   "name": "python",
   "nbconvert_exporter": "python",
   "pygments_lexer": "ipython3",
   "version": "3.12.4"
  }
 },
 "nbformat": 4,
 "nbformat_minor": 5
}
